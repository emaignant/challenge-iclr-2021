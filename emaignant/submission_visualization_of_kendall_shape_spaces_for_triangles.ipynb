{
 "cells": [
  {
   "cell_type": "markdown",
   "metadata": {},
   "source": [
    "# Visualization of Kendall shape spaces for triangles "
   ]
  },
  {
   "cell_type": "markdown",
   "metadata": {},
   "source": [
    "The goal of this notebook is to introduce methods for visualization of shapes of triangles within Kendall framework."
   ]
  },
  {
   "cell_type": "markdown",
   "metadata": {},
   "source": [
    "# 1. Introduction and motivation"
   ]
  },
  {
   "cell_type": "markdown",
   "metadata": {},
   "source": [
    "David G. Kendall first took interest into triangular shapes while studying random alignments of points in archeology and related fields [[KK1980]](#References). Following this statistical study, he developped the more general theory of shapes. This theory echoes in many fields like biology, medicine, or image analysis, where the shape of an object is particularly relevant when it comes to its analysis. Since the deformation of a shape is not necessarely linear, we need to use geometric statistics in order to proceed with such data.\n",
    "\n",
    "In Kendall theory, the word shape is used in the common sense, refering to the appearance of an object. Since the shape of an object should not depend on the way it is looked at or computed, it is natural to remove location, rotationnal and eventually scale effects. A practical way of describing an object's shape is to locate a finite number of relevant points on it, which we call landmarks, which should summarize the geometrical and/or scientifical information [[DM2016]](#References). \n",
    "\n",
    "Thus we define Kendall shape space of order $(k,m)$ (where $k\\geq 2$) as the quotient of $k$-tuples of non-aligned points in $\\mathbb{R}^m$ by the group of rotations, translations and dilatations of $\\mathbb{R}^m$ :  \n",
    "\n",
    "$$\\big(\\Sigma^k_m\\triangleq\\mathbb{R}^{km}\\setminus \\Delta \\big)/\\big(\\mathbb{R_+^*}\\times SO(m)\\ltimes \\mathbb{R}^m\\big)$$\n",
    "\n",
    "where $\\Delta =\\{\\ (a)_{1\\leq i\\leq k}\\ |\\ a\\in\\mathbb{R}^m\\}$ correspond to the degenerate case where all landmarks collapse into a unique point.\n",
    "\n",
    "It is useful to see that considering first the action of translations and dilatations before applying rotation group $\\text{SO}$ allows to write :\n",
    "\n",
    "$$\\Sigma^k_m=\\mathcal{S}^k_m/ \\text{SO}(m)$$\n",
    "\n",
    "where $\\mathcal{S}^k_m$, called the pre-shape space of order $(k,m)$ denotes the space of centered and normalized $k$-tuples of in $\\mathbb{R}^m$. It corresponds to the unit sphere of dimension $k(m-1)$ [[K1984]](#References).\n",
    "\n",
    "The Kendall shape space of order $(k,m)$ is a differential manifold which acquires singularities as soon as $m\\geq 3$. Apart from these singularities, it is a smooth manifold which can be equipped with a Riemannian metric inherited from the Frobenius metric on the pre-shape space [[LK1993]](#References). "
   ]
  },
  {
   "cell_type": "markdown",
   "metadata": {},
   "source": [
    "Two specific cases of Kendall shape spaces are of particular interest when comming to visualization : the space $\\Sigma^3_2$ of 2D triangles and the space $\\Sigma^3_3$ of 3D triangles, which are manifolds of dimension $2$, are isometric respectively to a $2$-sphere and a $2$-ball. These isometries can be computed explicitely, and therefore allow us to visualize directly the two Kendall shape spaces.\n",
    "\n",
    "In this notebook, we present two new visualization classes for the geomstats library built on these isometries, and show how to use them."
   ]
  },
  {
   "cell_type": "markdown",
   "metadata": {},
   "source": [
    "# 2. Methods and experiment"
   ]
  },
  {
   "cell_type": "markdown",
   "metadata": {},
   "source": [
    "We implemented two visualisation classes and merged them into Geomstats. This work was the subject of the two following pull requests :\n",
    "\n",
    "- https://github.com/geomstats/geomstats/pull/917\n",
    "- https://github.com/geomstats/geomstats/pull/993\n",
    "\n",
    "These two pull requests are part of our submission to the challenge, as per the challenge's guidelines: \"Implementation of a feature to merge into Geomstats and Giotto-tda codebases\". We have merged them into geomstats codebase directly, instead of copy-pasting them into the challenge repository, for convenience of the package's maintainers. We invite the reviewers to evaluate our submission taking into account our notebook with these two additional pull requests."
   ]
  },
  {
   "cell_type": "markdown",
   "metadata": {},
   "source": [
    "## Set up "
   ]
  },
  {
   "cell_type": "code",
   "execution_count": null,
   "metadata": {},
   "outputs": [
    {
     "name": "stdout",
     "output_type": "stream",
     "text": [
      "Collecting geomstats\r\n",
      "  Cloning https://github.com/geomstats/geomstats.git to /tmp/pip-install-vnapg27g/geomstats_90953f0afe9a449b80f0ee55a697d3ce\r\n"
     ]
    }
   ],
   "source": [
    "import os\n",
    "import sys\n",
    "import warnings\n",
    "\n",
    "!pip install git+https://github.com/geomstats/geomstats.git#egg=geomstats\n",
    "\n",
    "warnings.filterwarnings('ignore')"
   ]
  },
  {
   "cell_type": "code",
   "execution_count": null,
   "metadata": {},
   "outputs": [],
   "source": [
    "%matplotlib inline\n",
    "\n",
    "import matplotlib.pyplot as plt\n",
    "from mpl_toolkits.mplot3d import Axes3D\n",
    "\n",
    "import geomstats.backend as gs\n",
    "import geomstats.datasets.utils as data_utils\n",
    "from geomstats.geometry.pre_shape import KendallShapeMetric, PreShapeSpace\n",
    "from geomstats.visualization import KendallDisk, KendallSphere"
   ]
  },
  {
   "cell_type": "markdown",
   "metadata": {},
   "source": [
    "## First method : the space $\\Sigma_2^3$ of 2D triangles"
   ]
  },
  {
   "cell_type": "code",
   "execution_count": null,
   "metadata": {},
   "outputs": [],
   "source": [
    "m_ambient = 2\n",
    "k_landmarks = 3\n",
    "preshape_triangle_2d = PreShapeSpace(3, 2)\n",
    "metric_triangle_2d = KendallShapeMetric(3, 2)"
   ]
  },
  {
   "cell_type": "markdown",
   "metadata": {},
   "source": [
    "The space $\\Sigma_2^3$ of 2D triangles is a manifold of dimension $2=3\\times(2-1)-1$. Kendall showed that it is isometric to the $2$-sphere of radius $1/2$ [[K1984]](#References). Such an isometry can be computed explicitly. Practically, this means that 2D triangular shape datasets can be directly visualized in 3D without losing any information (especially geometrical ones). Furthermore, all geometric statistics can be directly processed on the sphere, for which we already have a large catalogue of explicit methods."
   ]
  },
  {
   "cell_type": "markdown",
   "metadata": {},
   "source": [
    " First step consist in projecting (via the isometry mentionned above) the triangles on the sphere. In order to visualize better how the space $\\Sigma_2^3$ is mapped onto the sphere $S^2(1/2)$, we plot regularly sampled triangles at their corresponding location (according to the projection)."
   ]
  },
  {
   "cell_type": "code",
   "execution_count": null,
   "metadata": {},
   "outputs": [],
   "source": [
    "S = KendallSphere()"
   ]
  },
  {
   "cell_type": "code",
   "execution_count": null,
   "metadata": {
    "scrolled": false
   },
   "outputs": [],
   "source": [
    "fig = plt.figure(figsize=(15, 15))\n",
    "S.draw()"
   ]
  },
  {
   "cell_type": "markdown",
   "metadata": {},
   "source": [
    "One can easily notice that the equator corresponds to flat triangles while first meridian is paired with the subset of isocele triangles whose apex is red."
   ]
  },
  {
   "cell_type": "markdown",
   "metadata": {},
   "source": [
    "We now illustrate how some essential statistic and geometric tools project on the sphere."
   ]
  },
  {
   "cell_type": "markdown",
   "metadata": {},
   "source": [
    "### Uniform distribution "
   ]
  },
  {
   "cell_type": "markdown",
   "metadata": {},
   "source": [
    "Since the projection is isometric, the uniform distribution in $\\Sigma^3_2$ is exactly the uniform distribution on the sphere."
   ]
  },
  {
   "cell_type": "code",
   "execution_count": null,
   "metadata": {
    "scrolled": false
   },
   "outputs": [],
   "source": [
    "fig = plt.figure(figsize=(15, 15))\n",
    "S.draw()\n",
    "\n",
    "points = preshape_triangle_2d.random_uniform(1000)\n",
    "\n",
    "S.clear_points()\n",
    "S.add_points(points)\n",
    "S.draw_points(color='k', s=2)"
   ]
  },
  {
   "cell_type": "markdown",
   "metadata": {},
   "source": [
    "### Geodesic "
   ]
  },
  {
   "cell_type": "markdown",
   "metadata": {},
   "source": [
    "The geodesics in $\\Sigma^3_2$ corresponds to great circles on the sphere. The distance between two triangles of $\\Sigma^3_2$ is given exactly by the arc-length of the arc joining the two projected points on the sphere. The diameter of the space $\\Sigma^3_2$, defined as the distance between the two most distant points, is then equal to $\\pi/2$."
   ]
  },
  {
   "cell_type": "code",
   "execution_count": null,
   "metadata": {},
   "outputs": [],
   "source": [
    "fig = plt.figure(figsize=(15, 15))\n",
    "S.draw()\n",
    "\n",
    "times = gs.linspace(0., 1., 1000)\n",
    "velocities = gs.array([-t * .5 * S.ub for t in times])\n",
    "points = metric_triangle_2d.exp(velocities, S.pole)\n",
    "\n",
    "S.clear_points()\n",
    "S.add_points(points)\n",
    "S.draw_curve(color='b', lw=3)\n",
    "S.clear_points()\n",
    "S.add_points(points[[0, -1]])\n",
    "S.draw_points(color='k', s=70)"
   ]
  },
  {
   "cell_type": "markdown",
   "metadata": {},
   "source": [
    "### Parallel transport "
   ]
  },
  {
   "cell_type": "markdown",
   "metadata": {},
   "source": [
    "Given the geodesics and the logarithm map, one can easily compute the parallel transport of a vector $w$ along the geodesic $\\exp_\\text{b.p.}(tv)$ using the Pole Ladder algorithm implemented in geomstats."
   ]
  },
  {
   "cell_type": "code",
   "execution_count": null,
   "metadata": {},
   "outputs": [],
   "source": [
    "base_point, v, w = S.pole, -.5 * S.ub, S.ua\n",
    "n_rungs=10\n",
    "ladder = metric_triangle_2d.ladder_parallel_transport(\n",
    "    w, v, base_point, n_rungs, return_geodesics=True)\n",
    "\n",
    "transported = ladder['transported_tangent_vec']\n",
    "end_point = ladder['end_point']\n",
    "trajectory = ladder['trajectory']\n",
    "\n",
    "n_points = 10\n",
    "t = gs.linspace(0., 1., n_points)\n",
    "t_main = gs.linspace(0., 1., n_points * 4)\n",
    "main = []\n",
    "diag = []\n",
    "for points in trajectory:\n",
    "    main_geodesic, diagonal, final_geodesic = points\n",
    "    main.append(main_geodesic(t_main))\n",
    "    diag.append(diagonal(-t))\n",
    "    diag.append(diagonal(t))\n",
    "\n",
    "diag = gs.stack(diag).reshape(-1, k_landmarks, m_ambient)\n",
    "main = gs.stack(main).reshape(-1, k_landmarks, m_ambient)\n",
    "\n",
    "tangent_vectors = [v / n_rungs, w / n_rungs, transported / n_rungs]\n",
    "base_points = [base_point, base_point, main[-1]]"
   ]
  },
  {
   "cell_type": "code",
   "execution_count": null,
   "metadata": {},
   "outputs": [],
   "source": [
    "fig = plt.figure(figsize=(15, 15))\n",
    "S.draw()\n",
    "\n",
    "S.clear_points()\n",
    "S.add_points(main)\n",
    "S.draw_curve(color='b', lw=3)\n",
    "S.clear_points()\n",
    "S.add_points(diag)\n",
    "S.draw_points(color='r', s=2)\n",
    "for bp, tv in zip(base_points, tangent_vectors):\n",
    "    S.draw_vector(tv, bp, color=(0,1,0), lw=3)"
   ]
  },
  {
   "cell_type": "markdown",
   "metadata": {},
   "source": [
    "The diagonal geodesics used by the Pole Ladder method to compute the parallel transport are plotted in red."
   ]
  },
  {
   "cell_type": "markdown",
   "metadata": {},
   "source": [
    "## Second method : the space $\\Sigma_3^3$ of 3D triangles"
   ]
  },
  {
   "cell_type": "code",
   "execution_count": null,
   "metadata": {},
   "outputs": [],
   "source": [
    "m_ambient = 3\n",
    "k_landmarks = 3\n",
    "preshape_triangle_3d = PreShapeSpace(3, 3)\n",
    "metric_triangle_3d = KendallShapeMetric(3, 3)"
   ]
  },
  {
   "cell_type": "markdown",
   "metadata": {},
   "source": [
    "Once we know that $\\Sigma^3_2$ is isometric to the $2$-shere of radius $1/2$, it follows that the space $\\Sigma_3^3$ of 3D triangles is then isometric to the $1$-ball of radius $\\pi/4$. More generally, for $m\\geq k$, the space $\\Sigma^k_m$ is isometric to the quotient $\\Sigma^k_{k-1}/\\mathbb{Z}_2$ [[LK1993]](#References)."
   ]
  },
  {
   "cell_type": "code",
   "execution_count": null,
   "metadata": {},
   "outputs": [],
   "source": [
    "D = KendallDisk()"
   ]
  },
  {
   "cell_type": "code",
   "execution_count": null,
   "metadata": {},
   "outputs": [],
   "source": [
    "fig = plt.figure(figsize=(15, 15))\n",
    "D.draw()"
   ]
  },
  {
   "cell_type": "markdown",
   "metadata": {},
   "source": [
    "The shape space $\\Sigma_3^3$ is a manifold with boundary, which coincides with its singularity. We see on the above figure that it corresponds to set of flat triangles, which was located on the equator in the case of $\\Sigma^3_2$."
   ]
  },
  {
   "cell_type": "code",
   "execution_count": null,
   "metadata": {},
   "outputs": [],
   "source": [
    "flat = gs.array([[0., 0., 0.], \n",
    "                 [1., 0., 0.], \n",
    "                 [-1., 0., 0.]])/gs.sqrt(2.)\n",
    "\n",
    "preshape_triangle_3d.align(flat, D.centre)"
   ]
  },
  {
   "cell_type": "markdown",
   "metadata": {},
   "source": [
    "### Uniform distribution "
   ]
  },
  {
   "cell_type": "markdown",
   "metadata": {},
   "source": [
    "As in the previous example, the uniform distribution on $\\Sigma^3_3$ is given exactly by the uniform distribution on a disk."
   ]
  },
  {
   "cell_type": "code",
   "execution_count": null,
   "metadata": {},
   "outputs": [],
   "source": [
    "fig = plt.figure(figsize=(15, 15))\n",
    "D.draw()\n",
    "\n",
    "points = preshape_triangle_3d.random_uniform(1000)\n",
    "\n",
    "D.clear_points()\n",
    "D.add_points(points)\n",
    "D.draw_points(color='k', s=2)"
   ]
  },
  {
   "cell_type": "markdown",
   "metadata": {},
   "source": [
    "### Geodesics "
   ]
  },
  {
   "cell_type": "markdown",
   "metadata": {},
   "source": [
    "We show a first example where the geodesic is radial. It is the projection of the geodesic we previously shot in $\\Sigma^3_2$. "
   ]
  },
  {
   "cell_type": "code",
   "execution_count": null,
   "metadata": {},
   "outputs": [],
   "source": [
    "fig = plt.figure(figsize=(15, 15))\n",
    "D.draw()\n",
    "\n",
    "times = gs.linspace(0., 1., 1000)\n",
    "ub_3d = gs.transpose(gs.stack((D.ub[:, 0], D.ub[:, 1], gs.zeros(3))))\n",
    "speeds = gs.array([-t * .5 * ub_3d for t in times])\n",
    "points = metric_triangle_3d.exp(speeds, D.centre)\n",
    "\n",
    "D.clear_points()\n",
    "D.add_points(points)\n",
    "D.draw_curve(color='b', lw=3)\n",
    "D.clear_points()\n",
    "D.add_points(points[[0, -1]])\n",
    "D.draw_points(color='k', s=70)"
   ]
  },
  {
   "cell_type": "markdown",
   "metadata": {},
   "source": [
    "We show a second example where the initial point is no more the equilateral triangle."
   ]
  },
  {
   "cell_type": "code",
   "execution_count": null,
   "metadata": {},
   "outputs": [],
   "source": [
    "fig = plt.figure(figsize=(15, 15))\n",
    "D.draw()\n",
    "\n",
    "times = gs.linspace(0., 1., 1000)\n",
    "base_point = preshape_triangle_3d.projection(D.centre + .35 * ub_3d)\n",
    "tangent_vec = preshape_triangle_3d.to_tangent(preshape_triangle_3d.random_point(), base_point)\n",
    "tangent_vec = .5 * tangent_vec / metric_triangle_3d.norm(tangent_vec, base_point)\n",
    "speeds = gs.array([t * tangent_vec for t in times])\n",
    "points = metric_triangle_3d.exp(speeds, base_point)\n",
    "\n",
    "D.clear_points()\n",
    "D.add_points(points)\n",
    "D.draw_curve(color='b', lw=3)\n",
    "D.clear_points()\n",
    "D.add_points(points[[0,-1]])\n",
    "D.draw_points(color='k', s=70)"
   ]
  },
  {
   "cell_type": "markdown",
   "metadata": {},
   "source": [
    "### Parallel transport "
   ]
  },
  {
   "cell_type": "markdown",
   "metadata": {},
   "source": [
    "We compute the parallel transport of an orthogonal vector $w$ along the previous geodesic using the Pole Ladder method."
   ]
  },
  {
   "cell_type": "code",
   "execution_count": null,
   "metadata": {},
   "outputs": [],
   "source": [
    "base_point = base_point\n",
    "v = tangent_vec\n",
    "w = preshape_triangle_3d.to_tangent(preshape_triangle_3d.random_point(), base_point)\n",
    "w = w - metric_triangle_3d.inner_product(w, 2. * tangent_vec, base_point) * 2. * tangent_vec\n",
    "w = w / metric_triangle_3d.norm(w, base_point)\n",
    "n_rungs = 10\n",
    "ladder = metric_triangle_3d.ladder_parallel_transport(\n",
    "    w, v, base_point, n_rungs, return_geodesics=True)\n",
    "\n",
    "transported = ladder['transported_tangent_vec']\n",
    "end_point = ladder['end_point']\n",
    "trajectory = ladder['trajectory']\n",
    "\n",
    "n_points = 10\n",
    "t = gs.linspace(0., 1, n_points)\n",
    "t_main = gs.linspace(0., 1., n_points * 4)\n",
    "main = []\n",
    "diag = []\n",
    "for points in trajectory:\n",
    "    main_geodesic, diagonal, final_geodesic = points\n",
    "    main.append(main_geodesic(t_main))\n",
    "    diag.append(diagonal(-t))\n",
    "    diag.append(diagonal(t))\n",
    "\n",
    "diag = gs.stack(diag).reshape(-1, k_landmarks, m_ambient)\n",
    "main = gs.stack(main).reshape(-1, k_landmarks, m_ambient)\n",
    "\n",
    "tangent_vectors = [v / n_rungs, w / n_rungs, transported / n_rungs]\n",
    "base_points = [base_point, base_point, main[-1]]"
   ]
  },
  {
   "cell_type": "code",
   "execution_count": null,
   "metadata": {
    "scrolled": false
   },
   "outputs": [],
   "source": [
    "fig = plt.figure(figsize=(15, 15))\n",
    "D.draw()\n",
    "\n",
    "D.clear_points()\n",
    "D.add_points(main)\n",
    "D.draw_curve(color='b', lw=3)\n",
    "D.clear_points()\n",
    "D.add_points(diag)\n",
    "D.draw_points(color='r', s=1)\n",
    "for bp, vec in zip(base_points, tangent_vectors):\n",
    "    D.draw_vector(vec, bp, color=(0, 1, 0), width=.003)"
   ]
  },
  {
   "cell_type": "markdown",
   "metadata": {},
   "source": [
    "## Usecase : optical nerve heads"
   ]
  },
  {
   "cell_type": "markdown",
   "metadata": {},
   "source": [
    "In this usecase, we will illustrate how to use this last visualization class while investigating if there is a difference between two groups :\n",
    "\n",
    "- optical nerve heads that correspond to normal eyes,\n",
    "- optical nerve heads that correspond to glaucoma eyes.\n",
    "\n",
    "We import the dataset of the optical nerve heads from 22 images of Rhesus monkeys’ eyes (11 monkeys), available in [PE2015].\n",
    "\n",
    "For each monkey, an experimental glaucoma was introduced in one eye, while the second eye was kept as control. One seeks to observe differences between the glaucoma and the control eyes. On each image, 5 anatomical landmarks were recorded:\n",
    "\n",
    "- 1st landmark: superior aspect of the retina,\n",
    "- 2nd landmark: side of the retina closest to the temporal bone of the skull,\n",
    "- 3rd landmark: nose side of the retina,\n",
    "- 4th landmark: inferior point,\n",
    "- 5th landmark: optical nerve head deepest point.\n",
    "\n",
    "Label 0 refers to a normal eye, and Label 1 to an eye with glaucoma."
   ]
  },
  {
   "cell_type": "code",
   "execution_count": null,
   "metadata": {},
   "outputs": [],
   "source": [
    "nerves, labels, monkeys = data_utils.load_optical_nerves()\n",
    "print(nerves.shape)\n",
    "print(labels)\n",
    "print(monkeys)"
   ]
  },
  {
   "cell_type": "markdown",
   "metadata": {},
   "source": [
    "For this study we will consider only 3 first landmarks, such that our dataset is now a set of 22 labeled triangles."
   ]
  },
  {
   "cell_type": "code",
   "execution_count": null,
   "metadata": {},
   "outputs": [],
   "source": [
    "landmarks = [0, 1, 2]\n",
    "data = nerves[:, landmarks, :]"
   ]
  },
  {
   "cell_type": "markdown",
   "metadata": {},
   "source": [
    "We can visualize the dataset on the disk."
   ]
  },
  {
   "cell_type": "code",
   "execution_count": null,
   "metadata": {},
   "outputs": [],
   "source": [
    "D = KendallDisk(point_type='extrinsic')"
   ]
  },
  {
   "cell_type": "code",
   "execution_count": null,
   "metadata": {},
   "outputs": [],
   "source": [
    "normal_points = gs.array([data[i] for i in range(22) if labels[i] == 0])\n",
    "glaucoma_points = gs.array([data[i] for i in range(22) if labels[i] == 1])\n",
    "\n",
    "fig = plt.figure(figsize=(15, 15))\n",
    "D.draw()\n",
    "\n",
    "D.add_points(normal_points)\n",
    "D.draw_points(color=(0, 1, 0), s=40, label='Normal eyes')\n",
    "D.clear_points()\n",
    "glaucoma = D.add_points(glaucoma_points)\n",
    "D.draw_points(color=(0, 0, 0), s=40, label='Glaucoma eyes')\n",
    "\n",
    "plt.legend(fontsize = 'xx-large')"
   ]
  },
  {
   "cell_type": "markdown",
   "metadata": {},
   "source": [
    "We observe that the two sets are very compact and well superimposed. It means that this choice of 3 landmarks isn't of any help in separating the two groups. Therfore, we choose to include the 5th landmark into the selection and run a new example."
   ]
  },
  {
   "cell_type": "code",
   "execution_count": null,
   "metadata": {},
   "outputs": [],
   "source": [
    "landmarks = [0, 1, 4]\n",
    "data = nerves[:, landmarks, :]"
   ]
  },
  {
   "cell_type": "code",
   "execution_count": null,
   "metadata": {},
   "outputs": [],
   "source": [
    "normal_points = gs.array([data[i] for i in range(22) if labels[i] == 0])\n",
    "glaucoma_points = gs.array([data[i] for i in range(22) if labels[i] == 1])\n",
    "\n",
    "fig = plt.figure(figsize=(15, 15))\n",
    "D.draw()\n",
    "\n",
    "D.clear_points()\n",
    "D.add_points(normal_points)\n",
    "D.draw_points(color=(0, 1, 0), s=40, label='Normal eyes')\n",
    "D.clear_points()\n",
    "glaucoma = D.add_points(glaucoma_points)\n",
    "D.draw_points(color=(0, 0, 0), s=40, label='Glaucoma eyes')\n",
    "\n",
    "plt.legend(fontsize = 'xx-large')"
   ]
  },
  {
   "cell_type": "markdown",
   "metadata": {},
   "source": [
    "In this example, we observe a bigger variability within the two groups. Even though we can't separate them visually, they are not superimposed either. To highlight this, we can compute the Frechet mean of each group."
   ]
  },
  {
   "cell_type": "code",
   "execution_count": null,
   "metadata": {},
   "outputs": [],
   "source": [
    "from geomstats.learning.frechet_mean import FrechetMean"
   ]
  },
  {
   "cell_type": "code",
   "execution_count": null,
   "metadata": {},
   "outputs": [],
   "source": [
    "FM = FrechetMean(metric_triangle_3d)"
   ]
  },
  {
   "cell_type": "code",
   "execution_count": null,
   "metadata": {},
   "outputs": [],
   "source": [
    "normal_mean = FM.fit(preshape_triangle_3d.projection(normal_points)).estimate_\n",
    "glaucoma_mean = FM.fit(preshape_triangle_3d.projection(glaucoma_points)).estimate_"
   ]
  },
  {
   "cell_type": "code",
   "execution_count": null,
   "metadata": {},
   "outputs": [],
   "source": [
    "fig = plt.figure(figsize=(15, 15))\n",
    "D.draw()\n",
    "\n",
    "D.clear_points()\n",
    "D.add_points(normal_points)\n",
    "D.draw_points(color=(0, 1, 0), s=40, label='Normal eyes')\n",
    "D.clear_points()\n",
    "glaucoma = D.add_points(glaucoma_points)\n",
    "D.draw_points(color=(0, 0, 0), s=40, label='Glaucoma eyes')\n",
    "D.clear_points()\n",
    "D.add_points(normal_mean)\n",
    "D.draw_points(color=(0, 1, 0), marker='s', s=100, label='Mean of normal eyes')\n",
    "D.clear_points()\n",
    "D.add_points(glaucoma_mean)\n",
    "D.draw_points(color=(0, 0, 0), marker='s', s=100, label='Mean of glaucoma eyes')\n",
    "\n",
    "plt.legend(fontsize = 'xx-large')"
   ]
  },
  {
   "cell_type": "markdown",
   "metadata": {},
   "source": [
    "We observe that the two means are slightly different."
   ]
  },
  {
   "cell_type": "markdown",
   "metadata": {},
   "source": [
    "# 3. Benchmark"
   ]
  },
  {
   "cell_type": "markdown",
   "metadata": {},
   "source": [
    "As far as we know, this is the first public method for the visualization of Kendall shape spaces implemented in Python."
   ]
  },
  {
   "cell_type": "markdown",
   "metadata": {},
   "source": [
    "We compare it on the previous example with a non-exact visualization method : multidimensional scaling."
   ]
  },
  {
   "cell_type": "code",
   "execution_count": null,
   "metadata": {},
   "outputs": [],
   "source": [
    "from sklearn.manifold import MDS"
   ]
  },
  {
   "cell_type": "markdown",
   "metadata": {},
   "source": [
    "We use the metric version : rather than using the Euclidean distance, the pairwise distance matrix is pre-computed with Kendall Riemannian distance."
   ]
  },
  {
   "cell_type": "code",
   "execution_count": null,
   "metadata": {},
   "outputs": [],
   "source": [
    "embedding = MDS(n_components=2, random_state=1, dissimilarity='precomputed')\n",
    "distance_matrix = metric_triangle_3d.dist_pairwise(preshape_triangle_3d.projection(data))\n",
    "data_transformed = embedding.fit_transform(distance_matrix)\n",
    "\n",
    "normal_data_transformed = gs.array([data_transformed[i] for i in range(22) if labels[i] == 0])\n",
    "glaucoma_data_transformed = gs.array([data_transformed[i] for i in range(22) if labels[i] == 1])"
   ]
  },
  {
   "cell_type": "markdown",
   "metadata": {},
   "source": [
    "We plot the transformed data in the plane. It gives a rough idea of how well the points are disposed but it can't be compared easily to the visualization on the disk since the intrinsic distance is not the same. Indeed, the background disk is essential in order to read correctly the projected data."
   ]
  },
  {
   "cell_type": "code",
   "execution_count": null,
   "metadata": {},
   "outputs": [],
   "source": [
    "fig = plt.figure(figsize=(30, 15))\n",
    "\n",
    "fig.add_subplot(121)\n",
    "D.draw()\n",
    "D.add_points(normal_points)\n",
    "D.draw_points(color=(0, 1, 0), s=150)\n",
    "D.clear_points()\n",
    "glaucoma = D.add_points(glaucoma_points)\n",
    "D.draw_points(color=(0, 0, 0), s=150)\n",
    "plt.axis('equal')\n",
    "plt.xlim([-gs.pi/16, gs.pi/8])\n",
    "plt.ylim([-gs.pi/8, gs.pi/16])\n",
    "\n",
    "fig.add_subplot(122)\n",
    "plt.tight_layout()\n",
    "plt.scatter(normal_data_transformed[:, 0], normal_data_transformed[:, 1], color=(0, 1, 0), s=150)\n",
    "plt.scatter(glaucoma_data_transformed[:, 0], glaucoma_data_transformed[:, 1], color=(0, 0, 0), s=150)"
   ]
  },
  {
   "cell_type": "markdown",
   "metadata": {},
   "source": [
    "We measure the error of the embedding by computing the distance between the exact pairwise distance matrix and the reconstructed one."
   ]
  },
  {
   "cell_type": "code",
   "execution_count": null,
   "metadata": {},
   "outputs": [],
   "source": [
    "distance_matrix_transformed = gs.array([[gs.linalg.norm(x - y) for x in data_transformed] for y in data_transformed])\n",
    "print('Embedding error =', gs.linalg.norm(distance_matrix - distance_matrix_transformed))\n",
    "print('Relative embedding error =', gs.linalg.norm(distance_matrix - distance_matrix_transformed) \n",
    "      / gs.linalg.norm(distance_matrix))"
   ]
  },
  {
   "cell_type": "markdown",
   "metadata": {},
   "source": [
    "On another aspect, this visualization method adds to the spectrum of \"viewable\" manifolds and offers an example of Riemannian manifold which may be richer than Euclidean spaces, spheres or the hyperbolic planes while remaining relatively simple. We believe this visualization method could be used to illustrate more general results in the field of Riemannian geometry or as a support for educational content."
   ]
  },
  {
   "cell_type": "markdown",
   "metadata": {},
   "source": [
    "# 4. Limitations and perspectives"
   ]
  },
  {
   "cell_type": "markdown",
   "metadata": {},
   "source": [
    "Implementation methods have the advantage of offering an exact and explicit visualization. However, it would have been interesting to push the comparisons further by using a larger dataset than the one of the optic nerves. Following the remarks in the above part, it would also be valuable to illustrate and explore particularities of this space such as the presence of singularities, or the non-symmetric property."
   ]
  },
  {
   "cell_type": "markdown",
   "metadata": {},
   "source": [
    "On the usability aspect, it would be great to make the first visualization method interactive with \"python notebook\" command, but for the time being we don't have a visually readable solution."
   ]
  },
  {
   "cell_type": "markdown",
   "metadata": {},
   "source": [
    "In practice, these methods will not necessarily be of much use for geometric statistics on real data, because the case of 3 landmarks is a bit limiting. However, it could be really valuable from an illustrative and pedagogical point of view. Going in this direction, there should be more perspectives to explore. "
   ]
  },
  {
   "cell_type": "markdown",
   "metadata": {},
   "source": [
    "# References"
   ]
  },
  {
   "cell_type": "markdown",
   "metadata": {},
   "source": [
    ".. [KK1980] KENDALL, David G. et KENDALL, Wilfrid S. \n",
    "Alignments in two-dimensional random sets of points. \n",
    "Advances in Applied probability, 1980, p. 380-424.\n",
    "https://doi.org/10.2307/1426603\n",
    "\n",
    ".. [DM2016] DRYDEN, Ian L. et MARDIA, Kanti V. \n",
    "Statistical shape analysis: with applications in R. \n",
    "John Wiley & Sons, 2016.\n",
    "https://doi.org/10.1002/9781119072492\n",
    "\n",
    ".. [K1984] KENDALL, David G. \n",
    "Shape manifolds, procrustean metrics, and complex projective spaces. \n",
    "Bulletin of the London mathematical society, 1984, vol. 16, no 2, p. 81-121.\n",
    "https://doi.org/10.1112/blms/16.2.81\n",
    "\n",
    ".. [LK1993] LE, Huiling, KENDALL, David G., et al. \n",
    "The Riemannian structure of Euclidean shape spaces: a novel environment for statistics. \n",
    "Annals of statistics, 1993, vol. 21, no 3, p. 1225-1271.\n",
    "https://doi.org/10.1112/blms/16.2.81"
   ]
  },
  {
   "cell_type": "code",
   "execution_count": null,
   "metadata": {},
   "outputs": [],
   "source": []
  }
 ],
 "metadata": {
  "kernelspec": {
   "display_name": "Python 3",
   "language": "python",
   "name": "python3"
  },
  "language_info": {
   "codemirror_mode": {
    "name": "ipython",
    "version": 3
   },
   "file_extension": ".py",
   "mimetype": "text/x-python",
   "name": "python",
   "nbconvert_exporter": "python",
   "pygments_lexer": "ipython3",
   "version": "3.7.8"
  }
 },
 "nbformat": 4,
 "nbformat_minor": 4
}
